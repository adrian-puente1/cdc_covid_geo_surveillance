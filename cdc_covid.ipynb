{
 "metadata": {
  "language_info": {
   "codemirror_mode": {
    "name": "ipython",
    "version": 3
   },
   "file_extension": ".py",
   "mimetype": "text/x-python",
   "name": "python",
   "nbconvert_exporter": "python",
   "pygments_lexer": "ipython3",
   "version": "3.9.4"
  },
  "orig_nbformat": 2,
  "kernelspec": {
   "name": "python394jvsc74a57bd0bbf408b826681cf36650e65bc6bbdc0ddd6fa71aca0e8e7479f579d555180bef",
   "display_name": "Python 3.9.4 64-bit"
  },
  "metadata": {
   "interpreter": {
    "hash": "bbf408b826681cf36650e65bc6bbdc0ddd6fa71aca0e8e7479f579d555180bef"
   }
  }
 },
 "nbformat": 4,
 "nbformat_minor": 2,
 "cells": [
  {
   "source": [
    "#### Relevant Links  \n",
    "Dataset - https://data.cdc.gov/Case-Surveillance/COVID-19-Case-Surveillance-Public-Use-Data-with-Ge/n8mc-b4w4  \n",
    "Example(using sodapy instead for data read) - https://dev.socrata.com/blog/2014/11/04/data-visualization-with-python.html  \n",
    "Example - https://github.com/pankhurikumar23/socrataAPI  \n",
    "#### Dataset Description  \n",
    "**case_month** - \t\n",
    "The earlier of month the Clinical Date (date related to the illness or specimen collection) or the Date Received by CDC  \n",
    "**res_state** - state of residence  \n",
    "**state_fips_code** - state FIPS code  \n",
    "**res_county** - county of residence  \n",
    "**county_fips_code** - county FIPS code  \n",
    "**age_group** - Age group (0 - 17 years; 18 - 49 years; 50 - 64 years; 65 + years; Unknown; Missing; NA, if value suppressed for privacy protection.)  \n",
    "**sex** - Sex (Female; Male; Other; Unknown; Missing; NA, if value suppressed for privacy protection.)  \n",
    "**race** - Race (American Indian/Alaska Native; Asian; Black; Multiple/Other; Native Hawaiian/Other Pacific Islander; White; Unknown; Missing; NA, if value suppressed for privacy protection.)  \n",
    "**ethnicity** - Ethnicity (Hispanic; Non-Hispanic; Unknown; Missing; NA, if value suppressed for privacy protection.)  **case_positive_specimen_interval** - Weeks between earliest date and date of first positive specimen collection  \n",
    "**case_onset_interval** - Weeks between earliest date and date of symptom onset.  \n",
    "**process** - Under what process was the case first identified? (Clinical evaluation; Routine surveillance; Contact tracing of case patient; Multiple; Other; Unknown; Missing)  \n",
    "**exposure_yn** - In the 14 days prior to illness onset, did the patient have any of the following known exposures: domestic travel, international travel, cruise ship or vessel travel as a passenger or crew member, workplace, airport/airplane, adult congregate living facility (nursing, assisted living, or long-term care facility), school/university/childcare center, correctional facility, community event/mass gathering, animal with confirmed or suspected COVID-19, other exposure, contact with a known COVID-19 case? (Yes, Unknown, Missing)  \n",
    "**current_status** - What is the current status of this person? (Laboratory-confirmed case, Probable case)  \n",
    "**symptom_status** - What is the symptom status of this person? (Asymptomatic, Symptomatic, Unknown, Missing)  \n",
    "**hosp_yn** - Was the patient hospitalized? (Yes, No, Unknown, Missing)  \n",
    "**icu_yn** - \t\n",
    "Was the patient admitted to an intensive care unit (ICU)? (Yes, No, Unknown, Missing)  \n",
    "**death_yn** - \t\n",
    "Did the patient die as a result of this illness? (Yes; No; Unknown; Missing; NA, if value suppressed for privacy protection.)  \n",
    "**underlying_conditions_yn** - Did the patient have one or more of the underlying medical conditions and risk behaviors: diabetes mellitus, hypertension, severe obesity (BMI>40), cardiovascular disease, chronic renal disease, chronic liver disease, chronic lung disease, other chronic diseases, immunosuppressive condition, autoimmune condition, current smoker, former smoker, substance abuse or misuse, disability, psychological/psychiatric, pregnancy, other. (Yes, No, blank)"
   ],
   "cell_type": "markdown",
   "metadata": {}
  },
  {
   "cell_type": "code",
   "execution_count": 1,
   "metadata": {},
   "outputs": [
    {
     "output_type": "stream",
     "name": "stderr",
     "text": [
      "WARNING:root:Requests made without an app_token will be subject to strict throttling limits.\n"
     ]
    }
   ],
   "source": [
    "import numpy as np\n",
    "import pandas as pd\n",
    "from sodapy import Socrata\n",
    "#SODA API -> sodapy package\n",
    "#https://github.com/xmunoz/sodapy\n",
    "socrata_domain=\"data.cdc.gov\"\n",
    "socrata_dataset_identifier=\"n8mc-b4w4\"\n",
    "client=Socrata(socrata_domain,None)"
   ]
  },
  {
   "cell_type": "code",
   "execution_count": 4,
   "metadata": {},
   "outputs": [],
   "source": [
    "metadata=client.get_metadata(socrata_dataset_identifier)\n",
    "[x['name'] for x in metadata['columns']]; #outputs names of columns of metadata\n",
    "[x for x in metadata['columns'] if x['name']=='ethnicity'];"
   ]
  },
  {
   "cell_type": "code",
   "execution_count": 9,
   "metadata": {},
   "outputs": [],
   "source": [
    "results=client.get(socrata_dataset_identifier,order=\"case_month ASC\",\n",
    "where=(\"ethnicity!='NA'\")and\n",
    "(\"race!='NA'\")and\n",
    "(\"sex!='NA'\")and\n",
    "(\"age_group!='NA'\")and\n",
    "(\"res_state!='NA'\"))\n"
   ]
  }
 ]
}